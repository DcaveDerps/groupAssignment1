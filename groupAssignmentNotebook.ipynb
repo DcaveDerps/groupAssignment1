{
 "cells": [
  {
   "cell_type": "code",
   "execution_count": 1,
   "metadata": {},
   "outputs": [
    {
     "name": "stdin",
     "output_type": "stream",
     "text": [
      "Enter your name:  my man\n"
     ]
    },
    {
     "name": "stdout",
     "output_type": "stream",
     "text": [
      "Hello my man!\n"
     ]
    }
   ],
   "source": [
    "def greet(name):\n",
    "    print(\"Hello \" + name + \"!\")\n",
    "    \n",
    "def daycalc(date): # takes in parameter of date in mm/dd/yyyy format, parses the date into numbers, then uses formulas to determine the day of the week \n",
    "    month = int(date[0:2]) # returns a number 0-6 that corresponds to sunday (0), monday (1), etc\n",
    "    day = int(date[3:5])\n",
    "    year = int(date[6:])\n",
    "    calc1 = year - ((14 - month)//12) # variables calc1, calc2, and calc3 are just temporary helper variables used for these equations\n",
    "    calc2 = calc1 + (calc1//4) - (calc1//100) + (calc1//400)\n",
    "    calc3 = month + 12 * ((14 - month)//12) - 2\n",
    "    dayofweek = (day + calc2 + ((31 * calc3)//12)) % 7\n",
    "    return dayofweek # this just returns the number values; maybe add a method that takes this in and converts the number value into a string that says the day? (0 = sunday, 1 = monday, etc)\n",
    "\n",
    "name = input(\"Enter your name: \")\n",
    "date = input(\"Enter the date in mm/dd/yyyy format: \")\n",
    "    \n",
    "greet(name)\n",
    "print(daycalc(date)) # prints number that is returned from daycalc "
   ]
  },
  {
   "cell_type": "code",
   "execution_count": null,
   "metadata": {},
   "outputs": [],
   "source": []
  }
 ],
 "metadata": {
  "kernelspec": {
   "display_name": "Python 3.7",
   "language": "python",
   "name": "python3"
  },
  "language_info": {
   "codemirror_mode": {
    "name": "ipython",
    "version": 3
   },
   "file_extension": ".py",
   "mimetype": "text/x-python",
   "name": "python",
   "nbconvert_exporter": "python",
   "pygments_lexer": "ipython3",
   "version": "3.7.0"
  }
 },
 "nbformat": 4,
 "nbformat_minor": 2
}
